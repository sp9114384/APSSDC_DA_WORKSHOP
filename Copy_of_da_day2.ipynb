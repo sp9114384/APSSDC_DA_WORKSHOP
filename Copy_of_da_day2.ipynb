{
  "nbformat": 4,
  "nbformat_minor": 0,
  "metadata": {
    "colab": {
      "name": "Copy of da day2",
      "provenance": []
    },
    "kernelspec": {
      "name": "python3",
      "display_name": "Python 3"
    },
    "language_info": {
      "name": "python"
    }
  },
  "cells": [
    {
      "cell_type": "code",
      "metadata": {
        "colab": {
          "base_uri": "https://localhost:8080/"
        },
        "id": "eQhaRCRtyM-N",
        "outputId": "ed601ce5-fbe3-4478-c6c5-354fd322ea25"
      },
      "source": [
        "import numpy as np\n",
        "array =np.arange(1,10).reshape(3,3)\n",
        "array"
      ],
      "execution_count": null,
      "outputs": [
        {
          "output_type": "execute_result",
          "data": {
            "text/plain": [
              "array([[1, 2, 3],\n",
              "       [4, 5, 6],\n",
              "       [7, 8, 9]])"
            ]
          },
          "metadata": {
            "tags": []
          },
          "execution_count": 2
        }
      ]
    },
    {
      "cell_type": "code",
      "metadata": {
        "colab": {
          "base_uri": "https://localhost:8080/"
        },
        "id": "CwPZDeMVzFOQ",
        "outputId": "dde8ec46-5326-4823-d704-fbf74a0ef942"
      },
      "source": [
        "array.min()"
      ],
      "execution_count": null,
      "outputs": [
        {
          "output_type": "execute_result",
          "data": {
            "text/plain": [
              "1"
            ]
          },
          "metadata": {
            "tags": []
          },
          "execution_count": 3
        }
      ]
    },
    {
      "cell_type": "code",
      "metadata": {
        "colab": {
          "base_uri": "https://localhost:8080/"
        },
        "id": "2fqP4M90zL1m",
        "outputId": "365f7217-9258-4a8e-ea10-5790560115a1"
      },
      "source": [
        "array.mean()"
      ],
      "execution_count": null,
      "outputs": [
        {
          "output_type": "execute_result",
          "data": {
            "text/plain": [
              "5.0"
            ]
          },
          "metadata": {
            "tags": []
          },
          "execution_count": 4
        }
      ]
    },
    {
      "cell_type": "code",
      "metadata": {
        "colab": {
          "base_uri": "https://localhost:8080/",
          "height": 163
        },
        "id": "b9RKldpRzPr-",
        "outputId": "9849143b-a941-44b5-b2d4-0e51d3a8e88c"
      },
      "source": [
        "array.median()\n"
      ],
      "execution_count": null,
      "outputs": [
        {
          "output_type": "error",
          "ename": "AttributeError",
          "evalue": "ignored",
          "traceback": [
            "\u001b[0;31m---------------------------------------------------------------------------\u001b[0m",
            "\u001b[0;31mAttributeError\u001b[0m                            Traceback (most recent call last)",
            "\u001b[0;32m<ipython-input-5-dbe44f932e76>\u001b[0m in \u001b[0;36m<module>\u001b[0;34m()\u001b[0m\n\u001b[0;32m----> 1\u001b[0;31m \u001b[0marray\u001b[0m\u001b[0;34m.\u001b[0m\u001b[0mmedian\u001b[0m\u001b[0;34m(\u001b[0m\u001b[0;34m)\u001b[0m\u001b[0;34m\u001b[0m\u001b[0;34m\u001b[0m\u001b[0m\n\u001b[0m",
            "\u001b[0;31mAttributeError\u001b[0m: 'numpy.ndarray' object has no attribute 'median'"
          ]
        }
      ]
    },
    {
      "cell_type": "code",
      "metadata": {
        "colab": {
          "base_uri": "https://localhost:8080/"
        },
        "id": "dIHSSZeXzV4f",
        "outputId": "394f0364-ddd2-43a1-a78c-c9ec00e42433"
      },
      "source": [
        "array.argmin()"
      ],
      "execution_count": null,
      "outputs": [
        {
          "output_type": "execute_result",
          "data": {
            "text/plain": [
              "0"
            ]
          },
          "metadata": {
            "tags": []
          },
          "execution_count": 6
        }
      ]
    },
    {
      "cell_type": "code",
      "metadata": {
        "colab": {
          "base_uri": "https://localhost:8080/"
        },
        "id": "rHNb-wd_zsvY",
        "outputId": "018ca50b-6d34-47ff-90ab-d8c40488cdc4"
      },
      "source": [
        "array.argmax()"
      ],
      "execution_count": null,
      "outputs": [
        {
          "output_type": "execute_result",
          "data": {
            "text/plain": [
              "8"
            ]
          },
          "metadata": {
            "tags": []
          },
          "execution_count": 7
        }
      ]
    },
    {
      "cell_type": "code",
      "metadata": {
        "colab": {
          "base_uri": "https://localhost:8080/",
          "height": 180
        },
        "id": "mRl9XV57zwml",
        "outputId": "bcbd1dbc-5590-482c-8450-362926dd6f70"
      },
      "source": [
        "sec1 =np.array(np.random.randit(10,20,[4,4]))\n",
        "sec1"
      ],
      "execution_count": null,
      "outputs": [
        {
          "output_type": "error",
          "ename": "AttributeError",
          "evalue": "ignored",
          "traceback": [
            "\u001b[0;31m---------------------------------------------------------------------------\u001b[0m",
            "\u001b[0;31mAttributeError\u001b[0m                            Traceback (most recent call last)",
            "\u001b[0;32m<ipython-input-8-ae4a7d7ed49f>\u001b[0m in \u001b[0;36m<module>\u001b[0;34m()\u001b[0m\n\u001b[0;32m----> 1\u001b[0;31m \u001b[0msec1\u001b[0m \u001b[0;34m=\u001b[0m\u001b[0mnp\u001b[0m\u001b[0;34m.\u001b[0m\u001b[0marray\u001b[0m\u001b[0;34m(\u001b[0m\u001b[0mnp\u001b[0m\u001b[0;34m.\u001b[0m\u001b[0mrandom\u001b[0m\u001b[0;34m.\u001b[0m\u001b[0mrandit\u001b[0m\u001b[0;34m(\u001b[0m\u001b[0;36m10\u001b[0m\u001b[0;34m,\u001b[0m\u001b[0;36m20\u001b[0m\u001b[0;34m,\u001b[0m\u001b[0;34m[\u001b[0m\u001b[0;36m4\u001b[0m\u001b[0;34m,\u001b[0m\u001b[0;36m4\u001b[0m\u001b[0;34m]\u001b[0m\u001b[0;34m)\u001b[0m\u001b[0;34m)\u001b[0m\u001b[0;34m\u001b[0m\u001b[0;34m\u001b[0m\u001b[0m\n\u001b[0m\u001b[1;32m      2\u001b[0m \u001b[0msec1\u001b[0m\u001b[0;34m\u001b[0m\u001b[0;34m\u001b[0m\u001b[0m\n",
            "\u001b[0;31mAttributeError\u001b[0m: module 'numpy.random' has no attribute 'randit'"
          ]
        }
      ]
    },
    {
      "cell_type": "code",
      "metadata": {
        "colab": {
          "base_uri": "https://localhost:8080/"
        },
        "id": "VrhKO-MP0oDt",
        "outputId": "3807f9c5-bca9-4626-ce65-ea126c2a86e4"
      },
      "source": [
        "sec1 =np.array(np.random.randint(10,20,[4,4]))\n",
        "sec1"
      ],
      "execution_count": null,
      "outputs": [
        {
          "output_type": "execute_result",
          "data": {
            "text/plain": [
              "array([[16, 13, 12, 15],\n",
              "       [12, 15, 11, 18],\n",
              "       [17, 14, 11, 16],\n",
              "       [19, 16, 11, 19]])"
            ]
          },
          "metadata": {
            "tags": []
          },
          "execution_count": 9
        }
      ]
    },
    {
      "cell_type": "code",
      "metadata": {
        "colab": {
          "base_uri": "https://localhost:8080/"
        },
        "id": "d_4J-u0D03zl",
        "outputId": "d672ef7a-e0c6-4421-d96e-2c50912386eb"
      },
      "source": [
        "sec2 =np.array(np.random.randint(10,20,[4,4]))\n",
        "sec2    "
      ],
      "execution_count": null,
      "outputs": [
        {
          "output_type": "execute_result",
          "data": {
            "text/plain": [
              "array([[16, 16, 11, 16],\n",
              "       [12, 11, 13, 14],\n",
              "       [16, 16, 14, 16],\n",
              "       [12, 14, 14, 18]])"
            ]
          },
          "metadata": {
            "tags": []
          },
          "execution_count": 10
        }
      ]
    },
    {
      "cell_type": "code",
      "metadata": {
        "colab": {
          "base_uri": "https://localhost:8080/"
        },
        "id": "I-cdUYpL1MQE",
        "outputId": "c6b083fa-2cb6-4c39-e819-f425bd86679f"
      },
      "source": [
        "  np.vstack((sec1,sec2))"
      ],
      "execution_count": null,
      "outputs": [
        {
          "output_type": "execute_result",
          "data": {
            "text/plain": [
              "array([[16, 13, 12, 15],\n",
              "       [12, 15, 11, 18],\n",
              "       [17, 14, 11, 16],\n",
              "       [19, 16, 11, 19],\n",
              "       [16, 16, 11, 16],\n",
              "       [12, 11, 13, 14],\n",
              "       [16, 16, 14, 16],\n",
              "       [12, 14, 14, 18]])"
            ]
          },
          "metadata": {
            "tags": []
          },
          "execution_count": 11
        }
      ]
    },
    {
      "cell_type": "code",
      "metadata": {
        "colab": {
          "base_uri": "https://localhost:8080/"
        },
        "id": "DB7LbKwH1YbL",
        "outputId": "93d0289b-dfd7-4b39-fc2c-000921988013"
      },
      "source": [
        "  np.hstack((sec1,sec2))"
      ],
      "execution_count": null,
      "outputs": [
        {
          "output_type": "execute_result",
          "data": {
            "text/plain": [
              "array([[16, 13, 12, 15, 16, 16, 11, 16],\n",
              "       [12, 15, 11, 18, 12, 11, 13, 14],\n",
              "       [17, 14, 11, 16, 16, 16, 14, 16],\n",
              "       [19, 16, 11, 19, 12, 14, 14, 18]])"
            ]
          },
          "metadata": {
            "tags": []
          },
          "execution_count": 12
        }
      ]
    },
    {
      "cell_type": "code",
      "metadata": {
        "colab": {
          "base_uri": "https://localhost:8080/"
        },
        "id": "BsOyjI2N11xk",
        "outputId": "39c2e7dc-d248-4b7e-d560-79c8fa7fb2c2"
      },
      "source": [
        "  sec1+sec2"
      ],
      "execution_count": null,
      "outputs": [
        {
          "output_type": "execute_result",
          "data": {
            "text/plain": [
              "array([[32, 29, 23, 31],\n",
              "       [24, 26, 24, 32],\n",
              "       [33, 30, 25, 32],\n",
              "       [31, 30, 25, 37]])"
            ]
          },
          "metadata": {
            "tags": []
          },
          "execution_count": 13
        }
      ]
    },
    {
      "cell_type": "code",
      "metadata": {
        "colab": {
          "base_uri": "https://localhost:8080/"
        },
        "id": "IjKXqG1L2pMK",
        "outputId": "50588b93-3163-4731-faab-13bb02f75c17"
      },
      "source": [
        "  sec1@sec2"
      ],
      "execution_count": null,
      "outputs": [
        {
          "output_type": "execute_result",
          "data": {
            "text/plain": [
              "array([[ 784,  801,  723,  900],\n",
              "       [ 764,  785,  733,  902],\n",
              "       [ 808,  826,  747,  932],\n",
              "       [ 900,  922,  837, 1046]])"
            ]
          },
          "metadata": {
            "tags": []
          },
          "execution_count": 14
        }
      ]
    },
    {
      "cell_type": "code",
      "metadata": {
        "colab": {
          "base_uri": "https://localhost:8080/"
        },
        "id": "tiETEz-D3Mxz",
        "outputId": "bffe552a-2cdf-4c24-ee47-29dfe97e41ba"
      },
      "source": [
        "  sec1.dot(sec2)"
      ],
      "execution_count": null,
      "outputs": [
        {
          "output_type": "execute_result",
          "data": {
            "text/plain": [
              "array([[ 784,  801,  723,  900],\n",
              "       [ 764,  785,  733,  902],\n",
              "       [ 808,  826,  747,  932],\n",
              "       [ 900,  922,  837, 1046]])"
            ]
          },
          "metadata": {
            "tags": []
          },
          "execution_count": 15
        }
      ]
    },
    {
      "cell_type": "code",
      "metadata": {
        "colab": {
          "base_uri": "https://localhost:8080/"
        },
        "id": "06Pk7pBF3ZLy",
        "outputId": "68cac270-7950-45d9-86f8-b4cda7ec8593"
      },
      "source": [
        "  sec1.transpose()"
      ],
      "execution_count": null,
      "outputs": [
        {
          "output_type": "execute_result",
          "data": {
            "text/plain": [
              "array([[16, 12, 17, 19],\n",
              "       [13, 15, 14, 16],\n",
              "       [12, 11, 11, 11],\n",
              "       [15, 18, 16, 19]])"
            ]
          },
          "metadata": {
            "tags": []
          },
          "execution_count": 17
        }
      ]
    },
    {
      "cell_type": "code",
      "metadata": {
        "colab": {
          "base_uri": "https://localhost:8080/"
        },
        "id": "HRWcSSq04FD5",
        "outputId": "99ae89f5-1045-4783-c116-c1a4c8b9f0cb"
      },
      "source": [
        "  sec2.transpose()"
      ],
      "execution_count": null,
      "outputs": [
        {
          "output_type": "execute_result",
          "data": {
            "text/plain": [
              "array([[16, 12, 16, 12],\n",
              "       [16, 11, 16, 14],\n",
              "       [11, 13, 14, 14],\n",
              "       [16, 14, 16, 18]])"
            ]
          },
          "metadata": {
            "tags": []
          },
          "execution_count": 18
        }
      ]
    },
    {
      "cell_type": "code",
      "metadata": {
        "colab": {
          "base_uri": "https://localhost:8080/"
        },
        "id": "QNxPbdpF4L4y",
        "outputId": "324d454e-accc-4e08-a63f-374fe61bc4c0"
      },
      "source": [
        "  sec2.trace()"
      ],
      "execution_count": null,
      "outputs": [
        {
          "output_type": "execute_result",
          "data": {
            "text/plain": [
              "59"
            ]
          },
          "metadata": {
            "tags": []
          },
          "execution_count": 22
        }
      ]
    },
    {
      "cell_type": "code",
      "metadata": {
        "colab": {
          "base_uri": "https://localhost:8080/"
        },
        "id": "x1jusCFN4P6h",
        "outputId": "349d47b1-7e7b-4be2-c119-8ff14e6a86a0"
      },
      "source": [
        "sec1.trace()"
      ],
      "execution_count": null,
      "outputs": [
        {
          "output_type": "execute_result",
          "data": {
            "text/plain": [
              "61"
            ]
          },
          "metadata": {
            "tags": []
          },
          "execution_count": 23
        }
      ]
    },
    {
      "cell_type": "code",
      "metadata": {
        "colab": {
          "base_uri": "https://localhost:8080/"
        },
        "id": "EmWpvk3L4S2Z",
        "outputId": "2356d79f-7387-44ec-8975-3f0bbab84cac"
      },
      "source": [
        "np.abs(-100.25)"
      ],
      "execution_count": null,
      "outputs": [
        {
          "output_type": "execute_result",
          "data": {
            "text/plain": [
              "100.25"
            ]
          },
          "metadata": {
            "tags": []
          },
          "execution_count": 25
        }
      ]
    },
    {
      "cell_type": "code",
      "metadata": {
        "colab": {
          "base_uri": "https://localhost:8080/"
        },
        "id": "d3-2UnO-7Ie7",
        "outputId": "7fc855b1-2fcd-4b2c-95f9-3f31e6006824"
      },
      "source": [
        "np.all(sec1>0)"
      ],
      "execution_count": null,
      "outputs": [
        {
          "output_type": "execute_result",
          "data": {
            "text/plain": [
              "True"
            ]
          },
          "metadata": {
            "tags": []
          },
          "execution_count": 26
        }
      ]
    },
    {
      "cell_type": "code",
      "metadata": {
        "colab": {
          "base_uri": "https://localhost:8080/"
        },
        "id": "q7cP5tmo7yMe",
        "outputId": "f695c123-149f-4539-978d-cbe946662dae"
      },
      "source": [
        "np.all(sec1>56)"
      ],
      "execution_count": null,
      "outputs": [
        {
          "output_type": "execute_result",
          "data": {
            "text/plain": [
              "False"
            ]
          },
          "metadata": {
            "tags": []
          },
          "execution_count": 27
        }
      ]
    },
    {
      "cell_type": "code",
      "metadata": {
        "colab": {
          "base_uri": "https://localhost:8080/"
        },
        "id": "oEAhKAcD7492",
        "outputId": "27c22749-310e-43c1-aaf4-4554efce6728"
      },
      "source": [
        "np.all(sec2>0)"
      ],
      "execution_count": null,
      "outputs": [
        {
          "output_type": "execute_result",
          "data": {
            "text/plain": [
              "True"
            ]
          },
          "metadata": {
            "tags": []
          },
          "execution_count": 28
        }
      ]
    },
    {
      "cell_type": "code",
      "metadata": {
        "colab": {
          "base_uri": "https://localhost:8080/"
        },
        "id": "J-LlkaMn77Yu",
        "outputId": "249b5b3a-cf7f-4bfd-e0ce-21ad38f298be"
      },
      "source": [
        "np.any(sec1<0)"
      ],
      "execution_count": null,
      "outputs": [
        {
          "output_type": "execute_result",
          "data": {
            "text/plain": [
              "False"
            ]
          },
          "metadata": {
            "tags": []
          },
          "execution_count": 29
        }
      ]
    },
    {
      "cell_type": "code",
      "metadata": {
        "colab": {
          "base_uri": "https://localhost:8080/"
        },
        "id": "k2WQth0W8Cko",
        "outputId": "804884fa-c9e2-49ed-bc6f-ccf064be4bf5"
      },
      "source": [
        "np.any(sec1>0)"
      ],
      "execution_count": null,
      "outputs": [
        {
          "output_type": "execute_result",
          "data": {
            "text/plain": [
              "True"
            ]
          },
          "metadata": {
            "tags": []
          },
          "execution_count": 31
        }
      ]
    },
    {
      "cell_type": "code",
      "metadata": {
        "colab": {
          "base_uri": "https://localhost:8080/"
        },
        "id": "GdH6xdu_8H5W",
        "outputId": "6ec4c9df-4955-4027-ebdf-8ccc0cd1bc91"
      },
      "source": [
        "  np.round(12.36)"
      ],
      "execution_count": null,
      "outputs": [
        {
          "output_type": "execute_result",
          "data": {
            "text/plain": [
              "12.0"
            ]
          },
          "metadata": {
            "tags": []
          },
          "execution_count": 32
        }
      ]
    },
    {
      "cell_type": "code",
      "metadata": {
        "colab": {
          "base_uri": "https://localhost:8080/"
        },
        "id": "no8d7XNi8tN1",
        "outputId": "e879cacf-41b5-4126-881b-110e910efb2e"
      },
      "source": [
        "  np.round(9494.74833)"
      ],
      "execution_count": null,
      "outputs": [
        {
          "output_type": "execute_result",
          "data": {
            "text/plain": [
              "9495.0"
            ]
          },
          "metadata": {
            "tags": []
          },
          "execution_count": 33
        }
      ]
    },
    {
      "cell_type": "code",
      "metadata": {
        "colab": {
          "base_uri": "https://localhost:8080/"
        },
        "id": "2UtmX0Be8z6N",
        "outputId": "751dbac7-8bd1-4a0e-90a5-b3c6b68a926d"
      },
      "source": [
        "np.floor(34.99)"
      ],
      "execution_count": null,
      "outputs": [
        {
          "output_type": "execute_result",
          "data": {
            "text/plain": [
              "34.0"
            ]
          },
          "metadata": {
            "tags": []
          },
          "execution_count": 34
        }
      ]
    },
    {
      "cell_type": "code",
      "metadata": {
        "id": "vgcd4aU-9Hr1"
      },
      "source": [
        ""
      ],
      "execution_count": null,
      "outputs": []
    }
  ]
}